{
 "cells": [
  {
   "cell_type": "code",
   "execution_count": 1,
   "id": "54ddafc4",
   "metadata": {},
   "outputs": [
    {
     "name": "stdout",
     "output_type": "stream",
     "text": [
      "0\n",
      "6700\n",
      "1\n"
     ]
    }
   ],
   "source": [
    "import requests\n",
    "#url = 'https://raw.githubusercontent.com/nesk/cdnjs/master/ajax/libs/handsontable/0.11.0-beta1/jquery.handsontable.full.js'\n",
    "#page = requests.get(url)\n",
    "#print (page.text)\n",
    "\n",
    "from bs4 import BeautifulSoup\n",
    "import pandas as pd  \n",
    "from csv import writer\n",
    "from csv import reader\n",
    "\n",
    "# reading the csv file\n",
    "df = pd.read_csv(\"FinalwithSOCodeandGitCode.csv\")\n",
    "lists=[]\n",
    "print(len(lists))\n",
    "\n",
    "for i, j in df.iterrows():\n",
    "\n",
    "    print(j.PostId)\n",
    "    soup = (j.GHUrl)\n",
    "    s = requests.get(soup)\n",
    "    if(len(s.text)<=32767):\n",
    "        lists.append(s.text)\n",
    "    else:\n",
    "        lists.append(\"\")\n",
    "\n",
    "print(len(lists))\n",
    "\n",
    "df['GitCode'] = lists\n",
    "df.to_csv(\"./FinalwithSOCodeandGitCode.csv\",index=False);\n",
    "\n",
    "\n",
    "\n",
    "\n",
    "\n"
   ]
  },
  {
   "cell_type": "code",
   "execution_count": null,
   "id": "5bd8d1e1",
   "metadata": {},
   "outputs": [],
   "source": []
  },
  {
   "cell_type": "code",
   "execution_count": null,
   "id": "d85ab412",
   "metadata": {},
   "outputs": [],
   "source": []
  }
 ],
 "metadata": {
  "kernelspec": {
   "display_name": "Python 3",
   "language": "python",
   "name": "python3"
  },
  "language_info": {
   "codemirror_mode": {
    "name": "ipython",
    "version": 3
   },
   "file_extension": ".py",
   "mimetype": "text/x-python",
   "name": "python",
   "nbconvert_exporter": "python",
   "pygments_lexer": "ipython3",
   "version": "3.8.8"
  }
 },
 "nbformat": 4,
 "nbformat_minor": 5
}
