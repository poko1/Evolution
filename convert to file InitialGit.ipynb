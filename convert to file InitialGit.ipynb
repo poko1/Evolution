{
 "cells": [
  {
   "cell_type": "code",
   "execution_count": null,
   "id": "d7e7fb26",
   "metadata": {},
   "outputs": [],
   "source": [
    "import pandas as pd\n",
    "import glob\n",
    "import os\n",
    "\n",
    "path = r'D:/SA'#r'C:/csv_in'# use your input path where your csv files are located\n",
    "out_path = r'D:/SA' # use your output path , make sure path exist\n",
    "\n",
    "#parent_dir = \"D:/project663/\"\n",
    "\n",
    "all_files = glob.glob(path + \"/InitialGit.csv\")\n",
    "  \n",
    "for filename in all_files:\n",
    "    \n",
    "    df = pd.read_csv(filename, index_col=None, header=0, usecols= ['GitCode'])\n",
    "    \n",
    "    i=0\n",
    "    while True:\n",
    "        try: \n",
    "            print(i)\n",
    "            #directory = 'Initial'+str(i)+'/'\n",
    "            #n_path = os.path.join(parent_dir, directory)\n",
    "            #os.mkdir(n_path)\n",
    "            #print(n_path)\n",
    "            out_file = out_path + \"/\" + os.path.basename(filename) + str(i) + \".txt\"\n",
    "            df.iloc[[i]].to_csv(out_file)\n",
    "            i = i+1\n",
    "        except: pass\n",
    " \n",
    "\n",
    "        \n",
    "print(\"done\")"
   ]
  },
  {
   "cell_type": "code",
   "execution_count": null,
   "id": "0660175f",
   "metadata": {},
   "outputs": [],
   "source": []
  },
  {
   "cell_type": "code",
   "execution_count": null,
   "id": "7c82e437",
   "metadata": {},
   "outputs": [],
   "source": []
  }
 ],
 "metadata": {
  "kernelspec": {
   "display_name": "Python 3",
   "language": "python",
   "name": "python3"
  },
  "language_info": {
   "codemirror_mode": {
    "name": "ipython",
    "version": 3
   },
   "file_extension": ".py",
   "mimetype": "text/x-python",
   "name": "python",
   "nbconvert_exporter": "python",
   "pygments_lexer": "ipython3",
   "version": "3.8.8"
  }
 },
 "nbformat": 4,
 "nbformat_minor": 5
}
